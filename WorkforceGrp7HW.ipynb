{
 "cells": [
  {
   "cell_type": "markdown",
   "metadata": {},
   "source": [
    "# Workforce Analytics Group Assignment - Group 7\n",
    "\n",
    "## Part 1"
   ]
  },
  {
   "cell_type": "code",
   "execution_count": 1,
   "metadata": {
    "collapsed": false
   },
   "outputs": [],
   "source": [
    "# -*- coding: utf-8 -*-\n",
    "\n",
    "import nltk\n",
    "from collections import Counter\n",
    "import codecs\n",
    "import os.path\n",
    "import csv\n",
    "import numpy as np\n",
    "import networkx as nx\n",
    "import matplotlib.pyplot as plt\n",
    "import itertools\n",
    "import pandas as pd\n",
    "from nltk.stem import WordNetLemmatizer\n",
    "import random\n",
    "import re\n",
    "import jellyfish\n",
    "import operator\n",
    "\n",
    "\"\"\"\n",
    "Extract and Extract Verbs Only\n",
    "\n",
    "\"\"\"  \n",
    "\n",
    "def extract_nouns(text):\n",
    "    \n",
    "    # your code goes here\n",
    "    firm_nouns = []\n",
    "    words = nltk.word_tokenize(text)\n",
    "    tags = nltk.pos_tag(words)\n",
    "    for (word, tag) in tags:\n",
    "        if tag in ['NN', 'NNS', 'NNP', 'NNPS']:\n",
    "            firm_nouns.append(word.lower())\n",
    "    \n",
    "    return firm_nouns\n",
    "\n",
    "def extract_verbs(text):\n",
    "    \n",
    "    # your code goes here\n",
    "    firm_verbs = []\n",
    "    words = nltk.word_tokenize(text)\n",
    "    tags = nltk.pos_tag(words)\n",
    "    for (word, tag) in tags:\n",
    "        if tag in ['VB', 'VBD', 'VBG', 'VBN', 'VBP', 'VBZ']:\n",
    "            firm_verbs.append(word.lower())\n",
    "    \n",
    "    return firm_verbs\n",
    "\n",
    "\"\"\"\n",
    "Lemmatisation before finding frequent words\n",
    "\n",
    "\"\"\"\n",
    "\n",
    "def lemmatise(listWords, pos = 'n'):\n",
    "    lemmaWords = []\n",
    "    lemmatizer = WordNetLemmatizer()\n",
    "    for word in listWords:\n",
    "        lemmaWords.append(lemmatizer.lemmatize(word, pos = pos))\n",
    "        \n",
    "    return lemmaWords\n",
    "\n",
    "\n",
    "\"\"\"\n",
    "Frequent Words\n",
    "\n",
    "\"\"\"\n",
    "\n",
    "def stop_words(word_list, percentile = 75):\n",
    "    \n",
    "    # your code goes here\n",
    "    new_word_list = []\n",
    "    stop_list = []\n",
    "    #freq ={}\n",
    "    counts = Counter(word_list)\n",
    "    #numWords = sum(counts.values())\n",
    "    for key, value in counts.items():\n",
    "        new_word_list.append(key)\n",
    "        #freq = value / numWords\n",
    "        if value > np.percentile(list(counts.values()), percentile):\n",
    "            stop_list.append(key)\n",
    "    \n",
    "    return (new_word_list, stop_list)\n",
    "\n",
    "\n",
    "\"\"\"\n",
    "Similarity of two lists of words\n",
    "\n",
    "\"\"\"\n",
    "\n",
    "def intersect(a, b):\n",
    "    return list(set(a) & set(b))\n",
    "\n",
    "def union(a, b):\n",
    "    return list(set(a).union(set(b)))\n",
    "       \n",
    "def similarity(lst1, lst2):\n",
    "    ## your code here\n",
    "    unionList = union(lst1, lst2)\n",
    "    if len(unionList) == 0:\n",
    "        sim = 0\n",
    "    else:\n",
    "        sim = len(intersect(lst1, lst2)) / len(unionList)\n",
    "    \n",
    "    return sim\n",
    "\n",
    "\"\"\"\n",
    "Diversity Calculation\n",
    "Inherent Diversity - Use Ethnicity as Proxy\n",
    "Acquired Diversity - Use Highest Educational Qualifcation as Proxy\n",
    "\n",
    "\"\"\"\n",
    "\n",
    "def diversityCalc(lst1, lst2):\n",
    "    lst1 = np.array(lst1)\n",
    "    lst2 = np.array(lst2)\n",
    "    return (1 - (np.sum(lst1 == lst2) / float(len(lst1))))"
   ]
  },
  {
   "cell_type": "code",
   "execution_count": 2,
   "metadata": {
    "collapsed": false
   },
   "outputs": [],
   "source": [
    "\"\"\"\n",
    "Read in text files and calculate similarities\n",
    "\n",
    "\"\"\"\n",
    "\n",
    "groups = [x for x in range(1, 9)]\n",
    "\n",
    "globalNouns = []\n",
    "globalVerbs = []\n",
    "groupNouns = {}\n",
    "groupVerbs = {}\n",
    "rawWords = {}\n",
    "\n",
    "for groupNo in groups:\n",
    "    \n",
    "    fname1 = \"D:\\\\Imperial MSc\\\\Electives\\\\Workforce Analytics\\\\Coursework\\\\cover letters\\\\group{}.txt\".format(groupNo)\n",
    "    \n",
    "    if os.path.isfile(fname1):\n",
    "        with codecs.open(fname1, \"r\", encoding='utf-8', errors='ignore') as myfile:\n",
    "            text = myfile.read().replace('\\n', '')\n",
    "            groupNounsList = extract_nouns(text)\n",
    "            groupVerbsList = extract_verbs(text)\n",
    "            \n",
    "            # Lemmatize so that the words with same meaning but different forms (e.g. different tenses) can be matched\n",
    "            groupNounsList = lemmatise(groupNounsList, pos = 'n')\n",
    "            groupVerbsList = lemmatise(groupVerbsList, pos = 'v')\n",
    "            \n",
    "            groupNouns[groupNo] = groupNounsList\n",
    "            groupVerbs[groupNo] = groupVerbsList\n",
    "            globalNouns = globalNouns + groupNounsList\n",
    "            globalVerbs = globalVerbs + groupVerbsList\n",
    "            # Remove space and '\\r' characters and store into rawWords\n",
    "            rawWords[groupNo] = re.split(' |\\r', text.lower()) # Store raw words to extract ethnicity and education later\n",
    "\n",
    "# Process Digital Interviewer JD\n",
    "jdNouns = []\n",
    "jdVerbs = []\n",
    "fname2 = \"D:\\\\Imperial MSc\\\\Electives\\\\Workforce Analytics\\\\Coursework\\\\cover letters\\\\JD.txt\"\n",
    "if os.path.isfile(fname2):\n",
    "    with codecs.open(fname2, \"r\", encoding='utf-8', errors='ignore') as myfile:\n",
    "        text = myfile.read().replace('\\n', '')\n",
    "        jdNouns = extract_nouns(text)\n",
    "        jdVerbs = extract_verbs(text)\n",
    "        # Lemmatize\n",
    "        jdNouns = lemmatise(jdNouns, pos = 'n')\n",
    "        jdVerbs = lemmatise(jdVerbs, pos = 'v')\n",
    "        "
   ]
  },
  {
   "cell_type": "code",
   "execution_count": 3,
   "metadata": {
    "collapsed": false
   },
   "outputs": [],
   "source": [
    "\"\"\"\n",
    "Remove StopWords (> 75% percentile)\n",
    "  \n",
    "\"\"\"\n",
    "\n",
    "# Use some of the english stop words defined in NLTK\n",
    "commonStopWords = set(nltk.corpus.stopwords.words('english'))\n",
    "\n",
    "# Find out stop words from nouns and verbs\n",
    "uniqGlobalNouns, stopNouns = stop_words(globalNouns, percentile = 75)\n",
    "uniqGlobalVerbs, stopVerbs = stop_words(globalVerbs, percentile = 75)\n",
    "\n",
    "globalNounsNoStop = [word for word in uniqGlobalNouns if word not in stopNouns]\n",
    "globalVerbsNoStop = [word for word in uniqGlobalVerbs if word not in stopVerbs]\n",
    "\n",
    "groupImptNouns = {}\n",
    "groupImptVerbs = {}\n",
    "# Retain important nouns and verbs and store in dictionaries groupNouns and groupVerbs\n",
    "for key, value in groupNouns.items():\n",
    "    newGroupNouns = intersect(value, globalNounsNoStop)\n",
    "    groupImptNouns[key] = newGroupNouns\n",
    "\n",
    "for key, value in groupVerbs.items():\n",
    "    newGroupVerbs = intersect(value, globalVerbsNoStop)\n",
    "    groupImptVerbs[key] = newGroupVerbs\n",
    "\n",
    "# For JD, we don't filter the words that appear frequently, since they may indicate important job requirements (e.g. Python)\n",
    "# Thus, we only filter out the common english stop words\n",
    "jdImptNouns = list(set([word for word in jdNouns if word not in commonStopWords]))\n",
    "jdImptVerbs = list(set([word for word in jdVerbs if word not in commonStopWords]))"
   ]
  },
  {
   "cell_type": "code",
   "execution_count": 4,
   "metadata": {
    "collapsed": false
   },
   "outputs": [],
   "source": [
    "\"\"\"\n",
    "Similarity Network\n",
    "   \n",
    "\"\"\"\n",
    "\n",
    "## create all possible edges in a graph\n",
    "possible_edges = list(itertools.combinations(groups, 2))\n",
    "\n",
    "# Create a single graph for the 8 applications\n",
    "G = nx.Graph()\n",
    "G.add_nodes_from(groups)\n",
    "jdSimilarity = {}\n",
    "# Similarity is calculated using BOTH nouns and verbs matching\n",
    "for groupNo in groups:\n",
    "    jdSimilarity[groupNo] = similarity(groupImptNouns[groupNo] + groupImptVerbs[groupNo], jdImptNouns + jdImptVerbs)\n",
    "\n",
    "# Add JD Similarity as \n",
    "nx.set_node_attributes(G, 'jdSimilarity', jdSimilarity)\n",
    "for groupA, groupB in possible_edges:\n",
    "    groupSimilarity = similarity(groupImptNouns[groupA] + groupImptVerbs[groupA], \n",
    "                                 groupImptNouns[groupB] + groupImptVerbs[groupB])\n",
    "    if groupSimilarity > 0:\n",
    "        G.add_edge(groupA, groupB, weight = groupSimilarity)"
   ]
  },
  {
   "cell_type": "code",
   "execution_count": 5,
   "metadata": {
    "collapsed": false
   },
   "outputs": [
    {
     "data": {
      "text/plain": [
       "{1: 0.03804347826086957,\n",
       " 2: 0.04375,\n",
       " 3: 0.03468208092485549,\n",
       " 4: 0.04142011834319527,\n",
       " 5: 0.056451612903225805,\n",
       " 6: 0.016216216216216217,\n",
       " 7: 0.026737967914438502,\n",
       " 8: 0.028735632183908046}"
      ]
     },
     "execution_count": 5,
     "metadata": {},
     "output_type": "execute_result"
    }
   ],
   "source": [
    "# Add JD Similarity as node attributes\n",
    "nx.get_node_attributes(G, 'jdSimilarity')"
   ]
  },
  {
   "cell_type": "code",
   "execution_count": 6,
   "metadata": {
    "collapsed": false
   },
   "outputs": [],
   "source": [
    "highestThree = sorted(nx.get_node_attributes(G, 'jdSimilarity').items(), key = operator.itemgetter(1), reverse = True)[:3]\n",
    "highestThree = [node for (node, jdSim) in highestThree]"
   ]
  },
  {
   "cell_type": "code",
   "execution_count": 7,
   "metadata": {
    "collapsed": true
   },
   "outputs": [],
   "source": [
    "jdScore = []\n",
    "for groupNo in groups:\n",
    "    if groupNo in highestThree:\n",
    "        jdScore.append(True)\n",
    "    else:\n",
    "        jdScore.append(False)\n"
   ]
  },
  {
   "cell_type": "code",
   "execution_count": 8,
   "metadata": {
    "collapsed": false
   },
   "outputs": [],
   "source": [
    "weightDict = {}\n",
    "for key, value in nx.get_edge_attributes(G, 'weight').items():\n",
    "    weightDict[key] = round(value, 4)"
   ]
  },
  {
   "cell_type": "code",
   "execution_count": 9,
   "metadata": {
    "collapsed": false
   },
   "outputs": [
    {
     "data": {
      "text/plain": [
       "{(1, 2): 0.0341,\n",
       " (1, 3): 0.043,\n",
       " (1, 4): 0.0269,\n",
       " (1, 5): 0.0896,\n",
       " (1, 6): 0.041,\n",
       " (1, 7): 0.0561,\n",
       " (1, 8): 0.0718,\n",
       " (2, 3): 0.0303,\n",
       " (2, 4): 0.0245,\n",
       " (2, 5): 0.0427,\n",
       " (2, 6): 0.0229,\n",
       " (2, 7): 0.0281,\n",
       " (2, 8): 0.0366,\n",
       " (3, 4): 0.0407,\n",
       " (3, 5): 0.072,\n",
       " (3, 6): 0.0495,\n",
       " (3, 7): 0.0598,\n",
       " (3, 8): 0.04,\n",
       " (4, 5): 0.0155,\n",
       " (4, 6): 0.0387,\n",
       " (4, 7): 0.0378,\n",
       " (4, 8): 0.0287,\n",
       " (5, 6): 0.007,\n",
       " (5, 7): 0.0352,\n",
       " (5, 8): 0.0635,\n",
       " (6, 7): 0.0515,\n",
       " (6, 8): 0.0214,\n",
       " (7, 8): 0.0372}"
      ]
     },
     "execution_count": 9,
     "metadata": {},
     "output_type": "execute_result"
    }
   ],
   "source": [
    "weightDict"
   ]
  },
  {
   "cell_type": "code",
   "execution_count": 10,
   "metadata": {
    "collapsed": false
   },
   "outputs": [
    {
     "data": {
      "image/png": "[encoded data removed]",
      "text/plain": [
       "<matplotlib.figure.Figure at 0x1a2833f20f0>"
      ]
     },
     "metadata": {},
     "output_type": "display_data"
    }
   ],
   "source": [
    "np.random.seed(123)\n",
    "pos = nx.spring_layout(G, k = 0.5, iterations = 100)\n",
    "nx.draw_networkx(G, pos, node_color = jdScore, cmap = plt.cm.Set3)\n",
    "nx.draw_networkx_edge_labels(G, pos, edge_labels = weightDict, font_size = 8)\n",
    "plt.axis('off')\n",
    "plt.show()\n",
    "plt.close()"
   ]
  },
  {
   "cell_type": "code",
   "execution_count": 11,
   "metadata": {
    "collapsed": false
   },
   "outputs": [
    {
     "data": {
      "image/png": "[encoded data removed]",
      "text/plain": [
       "<matplotlib.figure.Figure at 0x1a28352b320>"
      ]
     },
     "metadata": {},
     "output_type": "display_data"
    }
   ],
   "source": [
    "np.random.seed(123)\n",
    "pos = nx.spring_layout(G, k = 0.5, iterations = 100)\n",
    "nx.draw_networkx(G, pos, node_color = jdScore, cmap = plt.cm.Set3, \n",
    "                 edge_color = [d['weight'] for (u, v, d) in G.edges(data = True)], width = 5.0, \n",
    "                 edge_cmap = plt.cm.Blues)\n",
    "#nx.draw_networkx_edge_labels(G, pos, edge_labels = weightDict, font_size = 8)\n",
    "plt.axis('off')\n",
    "plt.show()\n",
    "plt.close()\n",
    "\n",
    "# Group 2, 4 and 5 are strong candidates, and group 4 is most similar to group 7 (our group)\n",
    "# Hence group 4 is our strongest competitor"
   ]
  },
  {
   "cell_type": "code",
   "execution_count": 12,
   "metadata": {
    "collapsed": false
   },
   "outputs": [
    {
     "name": "stdout",
     "output_type": "stream",
     "text": [
      "0.0589594875608\n"
     ]
    }
   ],
   "source": [
    "# Average similarity between groups + 1 std dev\n",
    "\n",
    "allWeights = [d['weight'] for (u, v, d) in G.edges(data = True)]\n",
    "print(np.mean(allWeights) + np.std(allWeights))"
   ]
  },
  {
   "cell_type": "code",
   "execution_count": 13,
   "metadata": {
    "collapsed": false
   },
   "outputs": [
    {
     "data": {
      "text/html": [
       "<div>\n",
       "<table border=\"1\" class=\"dataframe\">\n",
       "  <thead>\n",
       "    <tr style=\"text-align: right;\">\n",
       "      <th></th>\n",
       "      <th>group</th>\n",
       "      <th>avgSim</th>\n",
       "      <th>maxSim</th>\n",
       "      <th>nounsSize</th>\n",
       "      <th>verbsSize</th>\n",
       "      <th>jdSimilarity</th>\n",
       "    </tr>\n",
       "  </thead>\n",
       "  <tbody>\n",
       "    <tr>\n",
       "      <th>0</th>\n",
       "      <td>1</td>\n",
       "      <td>0.051787</td>\n",
       "      <td>0.089552</td>\n",
       "      <td>65</td>\n",
       "      <td>39</td>\n",
       "      <td>0.038043</td>\n",
       "    </tr>\n",
       "    <tr>\n",
       "      <th>1</th>\n",
       "      <td>2</td>\n",
       "      <td>0.031314</td>\n",
       "      <td>0.042735</td>\n",
       "      <td>47</td>\n",
       "      <td>33</td>\n",
       "      <td>0.043750</td>\n",
       "    </tr>\n",
       "    <tr>\n",
       "      <th>2</th>\n",
       "      <td>3</td>\n",
       "      <td>0.047892</td>\n",
       "      <td>0.072000</td>\n",
       "      <td>64</td>\n",
       "      <td>28</td>\n",
       "      <td>0.034682</td>\n",
       "    </tr>\n",
       "    <tr>\n",
       "      <th>3</th>\n",
       "      <td>4</td>\n",
       "      <td>0.030410</td>\n",
       "      <td>0.040698</td>\n",
       "      <td>62</td>\n",
       "      <td>29</td>\n",
       "      <td>0.041420</td>\n",
       "    </tr>\n",
       "    <tr>\n",
       "      <th>4</th>\n",
       "      <td>5</td>\n",
       "      <td>0.046505</td>\n",
       "      <td>0.089552</td>\n",
       "      <td>25</td>\n",
       "      <td>18</td>\n",
       "      <td>0.056452</td>\n",
       "    </tr>\n",
       "    <tr>\n",
       "      <th>5</th>\n",
       "      <td>6</td>\n",
       "      <td>0.033141</td>\n",
       "      <td>0.051546</td>\n",
       "      <td>62</td>\n",
       "      <td>39</td>\n",
       "      <td>0.016216</td>\n",
       "    </tr>\n",
       "    <tr>\n",
       "      <th>6</th>\n",
       "      <td>7</td>\n",
       "      <td>0.043689</td>\n",
       "      <td>0.059783</td>\n",
       "      <td>75</td>\n",
       "      <td>30</td>\n",
       "      <td>0.026738</td>\n",
       "    </tr>\n",
       "    <tr>\n",
       "      <th>7</th>\n",
       "      <td>8</td>\n",
       "      <td>0.042752</td>\n",
       "      <td>0.071823</td>\n",
       "      <td>61</td>\n",
       "      <td>30</td>\n",
       "      <td>0.028736</td>\n",
       "    </tr>\n",
       "  </tbody>\n",
       "</table>\n",
       "</div>"
      ],
      "text/plain": [
       "   group    avgSim    maxSim  nounsSize  verbsSize  jdSimilarity\n",
       "0      1  0.051787  0.089552         65         39      0.038043\n",
       "1      2  0.031314  0.042735         47         33      0.043750\n",
       "2      3  0.047892  0.072000         64         28      0.034682\n",
       "3      4  0.030410  0.040698         62         29      0.041420\n",
       "4      5  0.046505  0.089552         25         18      0.056452\n",
       "5      6  0.033141  0.051546         62         39      0.016216\n",
       "6      7  0.043689  0.059783         75         30      0.026738\n",
       "7      8  0.042752  0.071823         61         30      0.028736"
      ]
     },
     "execution_count": 13,
     "metadata": {},
     "output_type": "execute_result"
    }
   ],
   "source": [
    "\"\"\"\n",
    "Descriptive Stats\n",
    "\n",
    "\"\"\"\n",
    "\n",
    "# Your code goes here.\n",
    "jdSim = nx.get_node_attributes(G, 'jdSimilarity')\n",
    "rowlist = []\n",
    "for groupNo in groups:\n",
    "    row = []\n",
    "    row.append(groupNo)\n",
    "    listNeighbours = G.neighbors(groupNo)\n",
    "    #row.append(len([node for node in listNeighbours if G[groupNo][node]['weight'] > (np.mean(allWeights) + np.std(allWeights))]))\n",
    "    sim = [G[groupNo][node]['weight'] for node in listNeighbours]\n",
    "    if len(sim) == 0:\n",
    "        row.append(0)\n",
    "        row.append(0)\n",
    "    else:\n",
    "        row.append(np.mean(sim))\n",
    "        row.append(np.max(sim))\n",
    "    row.append(len(groupImptNouns[groupNo]))\n",
    "    row.append(len(groupImptVerbs[groupNo]))\n",
    "    row.append(jdSimilarity[groupNo])\n",
    "    rowlist.append(row)\n",
    "\n",
    "groupDF = pd.DataFrame(rowlist, columns = ['group', 'avgSim', 'maxSim', 'nounsSize', 'verbsSize', 'jdSimilarity'])\n",
    "\n",
    "groupDF.to_csv('D:\\\\Imperial MSc\\\\Electives\\\\Workforce Analytics\\\\Coursework\\\\GroupMetrics.csv', index = False)\n",
    "\n",
    "groupDF"
   ]
  },
  {
   "cell_type": "markdown",
   "metadata": {},
   "source": [
    "### Limitations\n",
    "\n",
    "- No spell checker\n",
    "- No synonyms check\n",
    "- Assessment is based on what interviewees wrote, not evidence-based\n",
    "- No assessment of actual skill level, only word matching\n",
    "- Important keywords might be filtered as stopWords (in the percentile matching)\n",
    "- No phrase matching (e.g. 'machine learning')\n",
    "- Exact keyword matching is not good in assessing soft skills and other experiences, e.g. internship experience, marketing experience, etc"
   ]
  },
  {
   "cell_type": "markdown",
   "metadata": {},
   "source": [
    "## Part 2"
   ]
  },
  {
   "cell_type": "code",
   "execution_count": 14,
   "metadata": {
    "collapsed": true
   },
   "outputs": [],
   "source": [
    "# Load all Ethnic Surnames\n",
    "all_eth = pd.read_csv('D:\\\\Imperial MSc\\\\Electives\\\\Workforce Analytics\\\\Lecture 4\\\\Workshop\\\\D4 ethnic_surnames.csv')\n",
    "\n",
    "allEthnics = all_eth.columns.values\n",
    "\n",
    "# Create metaphone version\n",
    "all_eth_metaphone = {}\n",
    "for ethnic in allEthnics:\n",
    "    all_eth_metaphone[ethnic] = []\n",
    "    for lastName in all_eth[ethnic]:\n",
    "        all_eth_metaphone[ethnic].append(jellyfish.metaphone(lastName))"
   ]
  },
  {
   "cell_type": "code",
   "execution_count": 15,
   "metadata": {
    "collapsed": false
   },
   "outputs": [],
   "source": [
    "## For complementary skills, we want low similarities and moderate diversity (lastname, educational level)\n",
    "\n",
    "random.seed(12345)\n",
    "\n",
    "eduLevel = {}\n",
    "ethnic = {}\n",
    "# Extract education level and ethnic groups from raw text\n",
    "for groupNo in groups:\n",
    "    # Raw Text for the group\n",
    "    rawWordList = np.array(rawWords[groupNo])\n",
    "    \n",
    "    # Key word extraction for educational qualifications\n",
    "    if 'phd' in rawWordList:\n",
    "        eduLevel[groupNo] = 'phd'\n",
    "    elif ('msc' in rawWordList) or ('masters' in rawWordList) or ('master' in rawWordList):\n",
    "        eduLevel[groupNo] = 'masters'\n",
    "    \n",
    "    # Extract surname: its position is at the last word of the text\n",
    "    surname = rawWordList[rawWordList != ''][-1]\n",
    "    \n",
    "    # Step 1: Exact surname matching, use the first match\n",
    "    currEth = []\n",
    "    for eth in allEthnics:\n",
    "        if surname.upper() in all_eth[eth].as_matrix():\n",
    "            currEth = [eth]\n",
    "            break\n",
    "    \n",
    "    # Step 2: If there's no exact match, proceed with metaphone matching\n",
    "    if len(currEth) == 0:\n",
    "        \n",
    "        metaphone_surname = jellyfish.metaphone(surname)\n",
    "        for eth in allEthnics:\n",
    "            if metaphone_surname in all_eth_metaphone[eth]:\n",
    "                currEth.append(eth)\n",
    "        \n",
    "        # If there is 1 or more matching done using metaphone matching, pick a random ethnicity as match\n",
    "        if len(currEth) > 0:\n",
    "            randidx = random.randrange(len(currEth))\n",
    "            ethnic[groupNo] = currEth[randidx]\n",
    "        # If there is no metaphone match, classify as \"Others\"\n",
    "        else:\n",
    "            ethnic[groupNo] = 'Others'\n",
    "    else:\n",
    "        ethnic[groupNo] = currEth[0]\n"
   ]
  },
  {
   "cell_type": "code",
   "execution_count": 16,
   "metadata": {
    "collapsed": false
   },
   "outputs": [
    {
     "data": {
      "text/plain": [
       "{1: 'masters',\n",
       " 2: 'phd',\n",
       " 3: 'masters',\n",
       " 4: 'phd',\n",
       " 5: 'masters',\n",
       " 6: 'masters',\n",
       " 7: 'masters',\n",
       " 8: 'masters'}"
      ]
     },
     "execution_count": 16,
     "metadata": {},
     "output_type": "execute_result"
    }
   ],
   "source": [
    "# Educational Level of each group\n",
    "eduLevel"
   ]
  },
  {
   "cell_type": "code",
   "execution_count": 17,
   "metadata": {
    "collapsed": false
   },
   "outputs": [
    {
     "data": {
      "text/plain": [
       "{1: 'Others',\n",
       " 2: 'Others',\n",
       " 3: 'Chinese',\n",
       " 4: 'English',\n",
       " 5: 'Others',\n",
       " 6: 'Indian',\n",
       " 7: 'Chinese',\n",
       " 8: 'Others'}"
      ]
     },
     "execution_count": 17,
     "metadata": {},
     "output_type": "execute_result"
    }
   ],
   "source": [
    "# Ethnicity of each group\n",
    "ethnic"
   ]
  },
  {
   "cell_type": "code",
   "execution_count": 18,
   "metadata": {
    "collapsed": false
   },
   "outputs": [],
   "source": [
    "# Calculate diversity of pairs\n",
    "diversity = {}\n",
    "\n",
    "for key in possible_edges:\n",
    "    diversity[key] = diversityCalc([ethnic[key[0]], eduLevel[key[0]]], [ethnic[key[1]], eduLevel[key[1]]])"
   ]
  },
  {
   "cell_type": "code",
   "execution_count": 19,
   "metadata": {
    "collapsed": false
   },
   "outputs": [
    {
     "data": {
      "text/plain": [
       "{(1, 2): 0.5,\n",
       " (1, 3): 0.5,\n",
       " (1, 4): 1.0,\n",
       " (1, 5): 0.0,\n",
       " (1, 6): 0.5,\n",
       " (1, 7): 0.5,\n",
       " (1, 8): 0.0,\n",
       " (2, 3): 1.0,\n",
       " (2, 4): 0.5,\n",
       " (2, 5): 0.5,\n",
       " (2, 6): 1.0,\n",
       " (2, 7): 1.0,\n",
       " (2, 8): 0.5,\n",
       " (3, 4): 1.0,\n",
       " (3, 5): 0.5,\n",
       " (3, 6): 0.5,\n",
       " (3, 7): 0.0,\n",
       " (3, 8): 0.5,\n",
       " (4, 5): 1.0,\n",
       " (4, 6): 1.0,\n",
       " (4, 7): 1.0,\n",
       " (4, 8): 1.0,\n",
       " (5, 6): 0.5,\n",
       " (5, 7): 0.5,\n",
       " (5, 8): 0.0,\n",
       " (6, 7): 0.5,\n",
       " (6, 8): 0.5,\n",
       " (7, 8): 0.5}"
      ]
     },
     "execution_count": 19,
     "metadata": {},
     "output_type": "execute_result"
    }
   ],
   "source": [
    "diversity"
   ]
  },
  {
   "cell_type": "code",
   "execution_count": 20,
   "metadata": {
    "collapsed": false
   },
   "outputs": [],
   "source": [
    "# Focus on Group 7: our group\n",
    "feasiblePairs = []\n",
    "for key, value in diversity.items():\n",
    "    if (7 in key) and (value != 0) and (value != 1):\n",
    "        feasiblePairs.append(key)"
   ]
  },
  {
   "cell_type": "code",
   "execution_count": 21,
   "metadata": {
    "collapsed": false
   },
   "outputs": [
    {
     "name": "stdout",
     "output_type": "stream",
     "text": [
      "(6, 7) , Diversity = 0.5 , Similarity = 0.0515\n",
      "(7, 8) , Diversity = 0.5 , Similarity = 0.0372\n",
      "(5, 7) , Diversity = 0.5 , Similarity = 0.0352\n",
      "(1, 7) , Diversity = 0.5 , Similarity = 0.0561\n"
     ]
    }
   ],
   "source": [
    "for key in feasiblePairs:\n",
    "    print(key, \", Diversity =\", diversity[key], \", Similarity =\", weightDict[key])\n",
    "\n",
    "# Out of the below pairs (with sufficient diversity when pairing with Group 7), Group 5 is most dissimilar\n",
    "# Hence group 5 complements the skills of Group 7"
   ]
  },
  {
   "cell_type": "markdown",
   "metadata": {},
   "source": [
    "### Alternative Approach (Sales vs Engineer JDs)"
   ]
  },
  {
   "cell_type": "code",
   "execution_count": 22,
   "metadata": {
    "collapsed": true
   },
   "outputs": [],
   "source": [
    "functions = ['sales','engineer']\n",
    "\n",
    "funcNouns = {}\n",
    "funcVerbs = {}\n",
    "\n",
    "# Sales and Engineer JD Processing\n",
    "for function in functions:\n",
    "    fname1 = \"D:\\\\Imperial MSc\\\\Electives\\\\Workforce Analytics\\\\Coursework\\\\cover letters\\\\{}.txt\".format(function)\n",
    "    if os.path.isfile(fname1):\n",
    "        with codecs.open(fname1, \"r\", encoding='utf-8', errors='ignore') as myfile:\n",
    "            text = myfile.read().replace('\\n', '')\n",
    "            funcNouns[function] = extract_nouns(text)\n",
    "            funcVerbs[function] = extract_verbs(text)\n",
    "            # Lemmatize\n",
    "            funcNouns[function] = lemmatise(funcNouns[function], pos = 'n')\n",
    "            funcVerbs[function] = lemmatise(funcVerbs[function], pos = 'v')\n",
    "\n",
    "\"\"\"\n",
    "Remove Stop Words using NLTK stopwords\n",
    "We don't remove frequent words in JD since they may contain important keywords (e.g. R, Python, Programming)\n",
    "  \n",
    "\"\"\"\n",
    "\n",
    "# For JD, we don't filter the words that appear frequently, since they may indicate important job requirements (e.g. Python)\n",
    "# Thus, we only filter out the common english stop words\n",
    "jdImptNouns = set([word for word in jdNouns if word not in commonStopWords])\n",
    "jdImptVerbs = set([word for word in jdVerbs if word not in commonStopWords])\n",
    "\n",
    "funcImptNouns = {}\n",
    "funcImptVerbs = {}\n",
    "\n",
    "# Remove stop words from each firm's vocab\n",
    "for function in functions:\n",
    "    funcImptNouns[function]= list(set([word for word in funcNouns[function] if word not in commonStopWords]))\n",
    "    funcImptVerbs[function]= list(set([word for word in funcVerbs[function] if word not in commonStopWords]))\n"
   ]
  },
  {
   "cell_type": "code",
   "execution_count": 23,
   "metadata": {
    "collapsed": true
   },
   "outputs": [],
   "source": [
    "\"\"\"\n",
    "Similarities to engineer and sales JD\n",
    "   \n",
    "\"\"\"\n",
    "\n",
    "salesSim = {}\n",
    "engineerSim = {}\n",
    "# Similarity is calculated using BOTH nouns and verbs matching\n",
    "for groupNo in groups:\n",
    "    salesSim[groupNo] = similarity(groupImptNouns[groupNo] + groupImptVerbs[groupNo], \n",
    "                                   funcImptNouns['sales'] + funcImptVerbs['sales'])\n",
    "    engineerSim[groupNo] = similarity(groupImptNouns[groupNo] + groupImptVerbs[groupNo], \n",
    "                                      funcImptNouns['engineer'] + funcImptVerbs['engineer'])\n",
    "\n"
   ]
  },
  {
   "cell_type": "code",
   "execution_count": 24,
   "metadata": {
    "collapsed": true
   },
   "outputs": [],
   "source": [
    "# Average sales and engineer similarities\n",
    "aveSalesSim = np.mean(list(salesSim.values()))\n",
    "aveEngineerSim = np.mean(list(engineerSim.values()))"
   ]
  },
  {
   "cell_type": "code",
   "execution_count": 25,
   "metadata": {
    "collapsed": false
   },
   "outputs": [
    {
     "data": {
      "image/png": "[encoded data removed]",
      "text/plain": [
       "<matplotlib.figure.Figure at 0x1a284603ac8>"
      ]
     },
     "metadata": {},
     "output_type": "display_data"
    }
   ],
   "source": [
    "# Quadrant plot\n",
    "for k in salesSim.keys():\n",
    "    plt.scatter(salesSim[k], engineerSim[k], label = str(k))\n",
    "    plt.annotate(str(k), (salesSim[k], engineerSim[k] + 0.0005))\n",
    "plt.axhline(aveEngineerSim, color = 'grey', ls = 'dashed')\n",
    "plt.axvline(aveSalesSim, color = 'grey', ls = 'dashed')\n",
    "plt.xlabel('Sales JD Similarity')\n",
    "plt.ylabel('Software Engineer JD Similarity')\n",
    "plt.title('Sales and Software Engineer Similarities of Each Group')\n",
    "plt.show()\n",
    "plt.close()"
   ]
  },
  {
   "cell_type": "markdown",
   "metadata": {},
   "source": [
    "We can see that our group (group 7) has high similarity to Sales JD but low similarity to Engineer JD. Hence the complement character will be someone with high engineer capabilities. In the top half of the graph, both 1 and 5 are eligibile. We pick 5 since he/she has higher engineer similarity, while we already have the sales capability."
   ]
  }
 ],
 "metadata": {
  "kernelspec": {
   "display_name": "Python [conda root]",
   "language": "python",
   "name": "conda-root-py"
  },
  "language_info": {
   "codemirror_mode": {
    "name": "ipython",
    "version": 3
   },
   "file_extension": ".py",
   "mimetype": "text/x-python",
   "name": "python",
   "nbconvert_exporter": "python",
   "pygments_lexer": "ipython3",
   "version": "3.5.2"
  }
 },
 "nbformat": 4,
 "nbformat_minor": 2
}
